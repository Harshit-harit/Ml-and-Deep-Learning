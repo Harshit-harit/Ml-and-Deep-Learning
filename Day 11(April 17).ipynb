{
 "cells": [
  {
   "cell_type": "code",
   "execution_count": 1,
   "metadata": {},
   "outputs": [],
   "source": [
    "#Deep Learning\n",
    "#Neural Networks\n",
    "#Neutral Networks \n",
    " "
   ]
  },
  {
   "cell_type": "code",
   "execution_count": 2,
   "metadata": {},
   "outputs": [],
   "source": [
    "import tensorflow as tf\n"
   ]
  },
  {
   "cell_type": "code",
   "execution_count": 3,
   "metadata": {},
   "outputs": [],
   "source": [
    "import cv2\n",
    "loc=r'natural-images'"
   ]
  },
  {
   "cell_type": "code",
   "execution_count": 4,
   "metadata": {},
   "outputs": [],
   "source": [
    "import os  \n",
    "label=[]\n",
    "#os is library used to list down all the files in directory \n",
    "# used for dealing with directory\n",
    "for i in os.listdir(loc):\n",
    "    if i.split('_')[0]=='car':\n",
    "        label.append(2)\n",
    "    elif i.split('_')[0]=='motorbike':\n",
    "        label.append(0)\n",
    "    if i.split('_')[0]=='person':\n",
    "        label.append(0)\n",
    "#we are separating labels"
   ]
  },
  {
   "cell_type": "code",
   "execution_count": 5,
   "metadata": {},
   "outputs": [],
   "source": [
    "#features we require now\n",
    "features=[]\n",
    "for i in os.listdir(loc):\n",
    "    f=cv2.imread(os.path.join(loc,i))\n",
    "    resized_f=cv2.resize(f,(70,70))   #resizing all imgaes\n",
    "    features.append(resized_f)\n",
    "    \n",
    "#\n",
    "\n"
   ]
  },
  {
   "cell_type": "code",
   "execution_count": 6,
   "metadata": {},
   "outputs": [],
   "source": [
    "import numpy as np\n",
    "X=np.array(features)/255  #normalizing the pixel values\n",
    "Y=np.array(label)"
   ]
  },
  {
   "cell_type": "code",
   "execution_count": 7,
   "metadata": {},
   "outputs": [],
   "source": [
    "#tensor flow is frame work \n",
    "#keras and tflearn are libraries"
   ]
  },
  {
   "cell_type": "code",
   "execution_count": 8,
   "metadata": {},
   "outputs": [],
   "source": [
    "#to use keras first you have to define model\n",
    "model=tf.keras.models.Sequential()"
   ]
  },
  {
   "cell_type": "code",
   "execution_count": 9,
   "metadata": {},
   "outputs": [],
   "source": [
    "#Dense is used to define how many neurons will be used\n",
    "#input layers\n",
    "#features dim are not known:use flatten\n",
    "#features din are known: put into dense as 2d array\n",
    "model.add(tf.keras.layers.Flatten())\n",
    "\n",
    "\n",
    "\n",
    "#hidden layers(2)\n",
    "model.add(tf.keras.layers.Dense(128,activation='relu'))\n",
    "model.add(tf.keras.layers.Dense(64,activation='relu'))\n",
    "\n",
    "\n",
    "\n",
    "#output layers \n",
    "model.add(tf.keras.layers.Dense(3,activation ='softmax'))\n"
   ]
  },
  {
   "cell_type": "code",
   "execution_count": 10,
   "metadata": {},
   "outputs": [],
   "source": [
    "# in categorial entropy you have to define data in form of binary \n",
    "#whereas in case of sparse you have to not\n",
    "model.compile(loss='sparse_categorical_crossentropy',\n",
    "             optimizer='sgd',\n",
    "             metrics=['accuracy'])"
   ]
  },
  {
   "cell_type": "code",
   "execution_count": 11,
   "metadata": {},
   "outputs": [],
   "source": [
    "from sklearn.model_selection import train_test_split\n",
    "xtrain,xtest,ytrain,ytest=train_test_split(X,Y)"
   ]
  },
  {
   "cell_type": "code",
   "execution_count": 13,
   "metadata": {},
   "outputs": [
    {
     "name": "stdout",
     "output_type": "stream",
     "text": [
      "Train on 2056 samples\n",
      "Epoch 1/10\n",
      "2056/2056 [==============================] - 1s 421us/sample - loss: 0.0663 - accuracy: 0.9767\n",
      "Epoch 2/10\n",
      "2056/2056 [==============================] - 1s 419us/sample - loss: 0.0521 - accuracy: 0.9839\n",
      "Epoch 3/10\n",
      "2056/2056 [==============================] - 1s 418us/sample - loss: 0.0511 - accuracy: 0.9825\n",
      "Epoch 4/10\n",
      "2056/2056 [==============================] - 1s 414us/sample - loss: 0.0520 - accuracy: 0.9815\n",
      "Epoch 5/10\n",
      "2056/2056 [==============================] - 1s 415us/sample - loss: 0.0544 - accuracy: 0.9825\n",
      "Epoch 6/10\n",
      "2056/2056 [==============================] - 1s 412us/sample - loss: 0.0364 - accuracy: 0.9883\n",
      "Epoch 7/10\n",
      "2056/2056 [==============================] - 1s 419us/sample - loss: 0.0414 - accuracy: 0.9869\n",
      "Epoch 8/10\n",
      "2056/2056 [==============================] - 1s 414us/sample - loss: 0.0252 - accuracy: 0.9937\n",
      "Epoch 9/10\n",
      "2056/2056 [==============================] - 1s 415us/sample - loss: 0.0225 - accuracy: 0.9946\n",
      "Epoch 10/10\n",
      "2056/2056 [==============================] - 1s 416us/sample - loss: 0.0211 - accuracy: 0.9961\n"
     ]
    },
    {
     "data": {
      "text/plain": [
       "<tensorflow.python.keras.callbacks.History at 0x1fb4e762388>"
      ]
     },
     "execution_count": 13,
     "metadata": {},
     "output_type": "execute_result"
    }
   ],
   "source": [
    "model.fit(xtrain,ytrain,epochs=10)   #Trainig accuracy"
   ]
  },
  {
   "cell_type": "code",
   "execution_count": 14,
   "metadata": {},
   "outputs": [
    {
     "data": {
      "text/plain": [
       "array([[9.9998510e-01, 8.1348765e-07, 1.4106789e-05]], dtype=float32)"
      ]
     },
     "execution_count": 14,
     "metadata": {},
     "output_type": "execute_result"
    }
   ],
   "source": [
    "model.predict(xtest[40].reshape(1,70,70,3))#these are probabity oneuron"
   ]
  },
  {
   "cell_type": "code",
   "execution_count": 15,
   "metadata": {},
   "outputs": [
    {
     "data": {
      "text/plain": [
       "0"
      ]
     },
     "execution_count": 15,
     "metadata": {},
     "output_type": "execute_result"
    }
   ],
   "source": [
    "np.argmax(model.predict(xtest[40].reshape(1,70,70,3)))"
   ]
  },
  {
   "cell_type": "code",
   "execution_count": 16,
   "metadata": {},
   "outputs": [
    {
     "data": {
      "text/plain": [
       "0"
      ]
     },
     "execution_count": 16,
     "metadata": {},
     "output_type": "execute_result"
    }
   ],
   "source": [
    "ytest[40]  #real output "
   ]
  },
  {
   "cell_type": "code",
   "execution_count": 17,
   "metadata": {},
   "outputs": [
    {
     "data": {
      "text/plain": [
       "<matplotlib.image.AxesImage at 0x1fb4ed04d08>"
      ]
     },
     "execution_count": 17,
     "metadata": {},
     "output_type": "execute_result"
    },
    {
     "data": {
      "image/png": "[encoded data removed]",
      "text/plain": [
       "<Figure size 432x288 with 1 Axes>"
      ]
     },
     "metadata": {
      "needs_background": "light"
     },
     "output_type": "display_data"
    }
   ],
   "source": [
    "import matplotlib.pyplot as plt\n",
    "plt.imshow(xtest[40])"
   ]
  },
  {
   "cell_type": "code",
   "execution_count": 18,
   "metadata": {},
   "outputs": [],
   "source": [
    "pl=[]\n",
    "for i in model.predict(xtest):\n",
    "    \n",
    "    pl.append(np.argmax(i))"
   ]
  },
  {
   "cell_type": "code",
   "execution_count": 19,
   "metadata": {},
   "outputs": [
    {
     "data": {
      "text/plain": [
       "0.9620991253644315"
      ]
     },
     "execution_count": 19,
     "metadata": {},
     "output_type": "execute_result"
    }
   ],
   "source": [
    "(pl==ytest).sum()/len(xtest)     # no overfitting here like previous"
   ]
  },
  {
   "cell_type": "code",
   "execution_count": null,
   "metadata": {},
   "outputs": [],
   "source": []
  },
  {
   "cell_type": "code",
   "execution_count": null,
   "metadata": {},
   "outputs": [],
   "source": []
  }
 ],
 "metadata": {
  "kernelspec": {
   "display_name": "Python 3",
   "language": "python",
   "name": "python3"
  },
  "language_info": {
   "codemirror_mode": {
    "name": "ipython",
    "version": 3
   },
   "file_extension": ".py",
   "mimetype": "text/x-python",
   "name": "python",
   "nbconvert_exporter": "python",
   "pygments_lexer": "ipython3",
   "version": "3.7.7"
  }
 },
 "nbformat": 4,
 "nbformat_minor": 2
}
