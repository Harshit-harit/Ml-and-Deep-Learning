{
 "cells": [
  {
   "cell_type": "code",
   "execution_count": 1,
   "metadata": {},
   "outputs": [],
   "source": [
    "import numpy as np\n",
    "x1 = np.random.randint(3,15,10)\n",
    "x2 = np.random.randint(5,20,10)\n",
    "x3 = np.random.randint(2,19,10)"
   ]
  },
  {
   "cell_type": "code",
   "execution_count": 2,
   "metadata": {},
   "outputs": [
    {
     "data": {
      "text/plain": [
       "array([[12,  5,  4],\n",
       "       [12,  8, 14],\n",
       "       [13, 17,  3],\n",
       "       [13,  6, 11],\n",
       "       [14, 14, 18],\n",
       "       [13, 19,  8],\n",
       "       [10,  5, 10],\n",
       "       [ 3,  8, 17],\n",
       "       [14, 11, 10],\n",
       "       [12, 10, 13]])"
      ]
     },
     "execution_count": 2,
     "metadata": {},
     "output_type": "execute_result"
    }
   ],
   "source": [
    "X = np.array([x1,x2,x3])\n",
    "X = X.T\n",
    "X"
   ]
  },
  {
   "cell_type": "code",
   "execution_count": 3,
   "metadata": {},
   "outputs": [
    {
     "data": {
      "text/plain": [
       "array([[ 78.2],\n",
       "       [136.2],\n",
       "       [136.9],\n",
       "       [116.3],\n",
       "       [189.4],\n",
       "       [168.4],\n",
       "       [ 98. ],\n",
       "       [122.1],\n",
       "       [140. ],\n",
       "       [141.9]])"
      ]
     },
     "execution_count": 3,
     "metadata": {},
     "output_type": "execute_result"
    }
   ],
   "source": [
    "Y = 3*x1 + 5*x2 + 4.3*x3\n",
    "Y = Y.reshape(-1,1)\n",
    "Y"
   ]
  },
  {
   "cell_type": "code",
   "execution_count": 5,
   "metadata": {},
   "outputs": [
    {
     "data": {
      "text/plain": [
       "array([[0.90328954],\n",
       "       [0.41217544],\n",
       "       [0.03768917]])"
      ]
     },
     "execution_count": 5,
     "metadata": {},
     "output_type": "execute_result"
    }
   ],
   "source": [
    "m = np.array([np.random.rand(1),\n",
    "              np.random.randn(1),\n",
    "              np.random.rand(1)])\n",
    "m"
   ]
  },
  {
   "cell_type": "code",
   "execution_count": 6,
   "metadata": {},
   "outputs": [
    {
     "data": {
      "text/plain": [
       "array([[12,  5,  4],\n",
       "       [12,  8, 14],\n",
       "       [13, 17,  3],\n",
       "       [13,  6, 11],\n",
       "       [14, 14, 18],\n",
       "       [13, 19,  8],\n",
       "       [10,  5, 10],\n",
       "       [ 3,  8, 17],\n",
       "       [14, 11, 10],\n",
       "       [12, 10, 13]])"
      ]
     },
     "execution_count": 6,
     "metadata": {},
     "output_type": "execute_result"
    }
   ],
   "source": [
    "X"
   ]
  },
  {
   "cell_type": "code",
   "execution_count": null,
   "metadata": {},
   "outputs": [],
   "source": []
  }
 ],
 "metadata": {
  "kernelspec": {
   "display_name": "Python 3",
   "language": "python",
   "name": "python3"
  },
  "language_info": {
   "codemirror_mode": {
    "name": "ipython",
    "version": 3
   },
   "file_extension": ".py",
   "mimetype": "text/x-python",
   "name": "python",
   "nbconvert_exporter": "python",
   "pygments_lexer": "ipython3",
   "version": "3.7.4"
  }
 },
 "nbformat": 4,
 "nbformat_minor": 2
}
