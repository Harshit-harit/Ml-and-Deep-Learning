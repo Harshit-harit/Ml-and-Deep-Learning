{
 "cells": [
  {
   "cell_type": "code",
   "execution_count": 1,
   "metadata": {},
   "outputs": [],
   "source": [
    "#Deep Learning\n",
    "#Neural Networks\n",
    "#Neutral Networks \n",
    " "
   ]
  },
  {
   "cell_type": "code",
   "execution_count": 2,
   "metadata": {},
   "outputs": [
    {
     "name": "stderr",
     "output_type": "stream",
     "text": [
      "C:\\Users\\harsh\\Anaconda3\\lib\\site-packages\\tensorflow\\python\\framework\\dtypes.py:526: FutureWarning: Passing (type, 1) or '1type' as a synonym of type is deprecated; in a future version of numpy, it will be understood as (type, (1,)) / '(1,)type'.\n",
      "  _np_qint8 = np.dtype([(\"qint8\", np.int8, 1)])\n",
      "C:\\Users\\harsh\\Anaconda3\\lib\\site-packages\\tensorflow\\python\\framework\\dtypes.py:527: FutureWarning: Passing (type, 1) or '1type' as a synonym of type is deprecated; in a future version of numpy, it will be understood as (type, (1,)) / '(1,)type'.\n",
      "  _np_quint8 = np.dtype([(\"quint8\", np.uint8, 1)])\n",
      "C:\\Users\\harsh\\Anaconda3\\lib\\site-packages\\tensorflow\\python\\framework\\dtypes.py:528: FutureWarning: Passing (type, 1) or '1type' as a synonym of type is deprecated; in a future version of numpy, it will be understood as (type, (1,)) / '(1,)type'.\n",
      "  _np_qint16 = np.dtype([(\"qint16\", np.int16, 1)])\n",
      "C:\\Users\\harsh\\Anaconda3\\lib\\site-packages\\tensorflow\\python\\framework\\dtypes.py:529: FutureWarning: Passing (type, 1) or '1type' as a synonym of type is deprecated; in a future version of numpy, it will be understood as (type, (1,)) / '(1,)type'.\n",
      "  _np_quint16 = np.dtype([(\"quint16\", np.uint16, 1)])\n",
      "C:\\Users\\harsh\\Anaconda3\\lib\\site-packages\\tensorflow\\python\\framework\\dtypes.py:530: FutureWarning: Passing (type, 1) or '1type' as a synonym of type is deprecated; in a future version of numpy, it will be understood as (type, (1,)) / '(1,)type'.\n",
      "  _np_qint32 = np.dtype([(\"qint32\", np.int32, 1)])\n",
      "C:\\Users\\harsh\\Anaconda3\\lib\\site-packages\\tensorflow\\python\\framework\\dtypes.py:535: FutureWarning: Passing (type, 1) or '1type' as a synonym of type is deprecated; in a future version of numpy, it will be understood as (type, (1,)) / '(1,)type'.\n",
      "  np_resource = np.dtype([(\"resource\", np.ubyte, 1)])\n"
     ]
    }
   ],
   "source": [
    "import tensorflow as tf\n"
   ]
  },
  {
   "cell_type": "code",
   "execution_count": 3,
   "metadata": {},
   "outputs": [
    {
     "ename": "ImportError",
     "evalue": "DLL load failed: The specified module could not be found.",
     "output_type": "error",
     "traceback": [
      "\u001b[1;31m---------------------------------------------------------------------------\u001b[0m",
      "\u001b[1;31mImportError\u001b[0m                               Traceback (most recent call last)",
      "\u001b[1;32m<ipython-input-3-68765c4e0f33>\u001b[0m in \u001b[0;36m<module>\u001b[1;34m\u001b[0m\n\u001b[1;32m----> 1\u001b[1;33m \u001b[1;32mimport\u001b[0m \u001b[0mcv2\u001b[0m\u001b[1;33m\u001b[0m\u001b[1;33m\u001b[0m\u001b[0m\n\u001b[0m\u001b[0;32m      2\u001b[0m \u001b[0mloc\u001b[0m\u001b[1;33m=\u001b[0m\u001b[1;34mr'preview'\u001b[0m\u001b[1;33m\u001b[0m\u001b[1;33m\u001b[0m\u001b[0m\n",
      "\u001b[1;31mImportError\u001b[0m: DLL load failed: The specified module could not be found."
     ]
    }
   ],
   "source": [
    "import cv2\n",
    "loc=r'preview'\n"
   ]
  },
  {
   "cell_type": "code",
   "execution_count": 4,
   "metadata": {},
   "outputs": [],
   "source": [
    "import os  \n",
    "label=[]\n",
    "#os is library used to list down all the files in directory \n",
    "# used for dealing with directory\n",
    "for i in os.listdir(loc):\n",
    "    if i.split('_')[0]=='Moi':\n",
    "        label.append(0)\n",
    "    elif i.split('_')[0]=='Navn':\n",
    "        label.append(1)\n",
    "    if i.split('_')[0]=='Sahil':\n",
    "        label.append(2)\n",
    "    if i.split('_')[0]=='Hemu':\n",
    "        label.append(3)\n",
    "#we are separating labels"
   ]
  },
  {
   "cell_type": "code",
   "execution_count": null,
   "metadata": {},
   "outputs": [],
   "source": []
  },
  {
   "cell_type": "code",
   "execution_count": 5,
   "metadata": {},
   "outputs": [],
   "source": [
    "#features we require now\n",
    "features=[]\n",
    "for i in os.listdir(loc):\n",
    "    f=cv2.imread(os.path.join(loc,i))\n",
    "    resized_f=cv2.resize(f,(70,70))   #resizing all imgaes\n",
    "    features.append(resized_f)\n",
    "    \n",
    "#\n",
    "\n"
   ]
  },
  {
   "cell_type": "code",
   "execution_count": 6,
   "metadata": {},
   "outputs": [],
   "source": [
    "import numpy as np\n",
    "X=np.array(features)/255  #normalizing the pixel values\n",
    "Y=np.array(label)"
   ]
  },
  {
   "cell_type": "code",
   "execution_count": 7,
   "metadata": {},
   "outputs": [],
   "source": [
    "#tensor flow is frame work \n",
    "#keras and tflearn are libraries"
   ]
  },
  {
   "cell_type": "code",
   "execution_count": 8,
   "metadata": {},
   "outputs": [],
   "source": [
    "#to use keras first you have to define model\n",
    "model=tf.keras.models.Sequential()"
   ]
  },
  {
   "cell_type": "code",
   "execution_count": 9,
   "metadata": {},
   "outputs": [],
   "source": [
    "#Dense is used to define how many neurons will be used\n",
    "#input layers\n",
    "#features dim are not known:use flatten\n",
    "#features din are known: put into dense as 2d array\n",
    "model.add(tf.keras.layers.Flatten())\n",
    "\n",
    "\n",
    "\n",
    "#hidden layers(2)\n",
    "model.add(tf.keras.layers.Dense(128,activation='relu'))\n",
    "model.add(tf.keras.layers.Dense(64,activation='relu'))\n",
    "\n",
    "\n",
    "\n",
    "#output layers \n",
    "model.add(tf.keras.layers.Dense(4,activation ='softmax'))\n"
   ]
  },
  {
   "cell_type": "code",
   "execution_count": 10,
   "metadata": {},
   "outputs": [
    {
     "name": "stdout",
     "output_type": "stream",
     "text": [
      "WARNING:tensorflow:From C:\\Users\\harsh\\Anaconda3\\lib\\site-packages\\tensorflow\\python\\ops\\resource_variable_ops.py:435: colocate_with (from tensorflow.python.framework.ops) is deprecated and will be removed in a future version.\n",
      "Instructions for updating:\n",
      "Colocations handled automatically by placer.\n"
     ]
    }
   ],
   "source": [
    "# in categorial entropy you have to define data in form of binary \n",
    "#whereas in case of sparse you have to not\n",
    "model.compile(loss='sparse_categorical_crossentropy',\n",
    "             optimizer='sgd',\n",
    "             metrics=['accuracy'])"
   ]
  },
  {
   "cell_type": "code",
   "execution_count": 11,
   "metadata": {},
   "outputs": [],
   "source": [
    "from sklearn.model_selection import train_test_split\n",
    "xtrain,xtest,ytrain,ytest=train_test_split(X,Y)"
   ]
  },
  {
   "cell_type": "code",
   "execution_count": 12,
   "metadata": {},
   "outputs": [
    {
     "name": "stdout",
     "output_type": "stream",
     "text": [
      "Epoch 1/100\n",
      "105/105 [==============================] - 0s 2ms/sample - loss: 2.4532 - acc: 0.2286\n",
      "Epoch 2/100\n",
      "105/105 [==============================] - 0s 950us/sample - loss: 1.4125 - acc: 0.3714\n",
      "Epoch 3/100\n",
      "105/105 [==============================] - 0s 875us/sample - loss: 1.6134 - acc: 0.2286\n",
      "Epoch 4/100\n",
      "105/105 [==============================] - 0s 972us/sample - loss: 1.2890 - acc: 0.3714\n",
      "Epoch 5/100\n",
      "105/105 [==============================] - 0s 940us/sample - loss: 1.3224 - acc: 0.3714\n",
      "Epoch 6/100\n",
      "105/105 [==============================] - 0s 952us/sample - loss: 1.2184 - acc: 0.5238\n",
      "Epoch 7/100\n",
      "105/105 [==============================] - 0s 950us/sample - loss: 1.2985 - acc: 0.3810\n",
      "Epoch 8/100\n",
      "105/105 [==============================] - 0s 950us/sample - loss: 1.3060 - acc: 0.3619\n",
      "Epoch 9/100\n",
      "105/105 [==============================] - 0s 917us/sample - loss: 1.2056 - acc: 0.5714\n",
      "Epoch 10/100\n",
      "105/105 [==============================] - 0s 922us/sample - loss: 1.2299 - acc: 0.4000\n",
      "Epoch 11/100\n",
      "105/105 [==============================] - 0s 921us/sample - loss: 1.3443 - acc: 0.3333\n",
      "Epoch 12/100\n",
      "105/105 [==============================] - 0s 959us/sample - loss: 1.2620 - acc: 0.4667\n",
      "Epoch 13/100\n",
      "105/105 [==============================] - 0s 953us/sample - loss: 1.3214 - acc: 0.4286\n",
      "Epoch 14/100\n",
      "105/105 [==============================] - 0s 978us/sample - loss: 1.1112 - acc: 0.5048\n",
      "Epoch 15/100\n",
      "105/105 [==============================] - 0s 997us/sample - loss: 1.1120 - acc: 0.5048\n",
      "Epoch 16/100\n",
      "105/105 [==============================] - 0s 1ms/sample - loss: 1.2431 - acc: 0.4381\n",
      "Epoch 17/100\n",
      "105/105 [==============================] - 0s 1ms/sample - loss: 1.2781 - acc: 0.3524\n",
      "Epoch 18/100\n",
      "105/105 [==============================] - 0s 1ms/sample - loss: 1.0061 - acc: 0.6286\n",
      "Epoch 19/100\n",
      "105/105 [==============================] - 0s 948us/sample - loss: 0.9145 - acc: 0.6095\n",
      "Epoch 20/100\n",
      "105/105 [==============================] - 0s 1ms/sample - loss: 1.0196 - acc: 0.5524\n",
      "Epoch 21/100\n",
      "105/105 [==============================] - 0s 1ms/sample - loss: 1.0435 - acc: 0.5714\n",
      "Epoch 22/100\n",
      "105/105 [==============================] - 0s 1ms/sample - loss: 1.6322 - acc: 0.3333\n",
      "Epoch 23/100\n",
      "105/105 [==============================] - 0s 1ms/sample - loss: 0.9549 - acc: 0.7333\n",
      "Epoch 24/100\n",
      "105/105 [==============================] - 0s 1ms/sample - loss: 1.0721 - acc: 0.4667\n",
      "Epoch 25/100\n",
      "105/105 [==============================] - 0s 1ms/sample - loss: 0.7767 - acc: 0.7619\n",
      "Epoch 26/100\n",
      "105/105 [==============================] - 0s 959us/sample - loss: 0.7480 - acc: 0.7238\n",
      "Epoch 27/100\n",
      "105/105 [==============================] - 0s 1ms/sample - loss: 1.0150 - acc: 0.6000\n",
      "Epoch 28/100\n",
      "105/105 [==============================] - 0s 1ms/sample - loss: 1.1124 - acc: 0.5905\n",
      "Epoch 29/100\n",
      "105/105 [==============================] - 0s 1ms/sample - loss: 0.8265 - acc: 0.6476\n",
      "Epoch 30/100\n",
      "105/105 [==============================] - 0s 950us/sample - loss: 1.0544 - acc: 0.5619\n",
      "Epoch 31/100\n",
      "105/105 [==============================] - 0s 1ms/sample - loss: 0.7255 - acc: 0.7619\n",
      "Epoch 32/100\n",
      "105/105 [==============================] - 0s 1ms/sample - loss: 0.7028 - acc: 0.7429\n",
      "Epoch 33/100\n",
      "105/105 [==============================] - 0s 1ms/sample - loss: 1.0604 - acc: 0.6286\n",
      "Epoch 34/100\n",
      "105/105 [==============================] - 0s 940us/sample - loss: 0.7582 - acc: 0.7429\n",
      "Epoch 35/100\n",
      "105/105 [==============================] - 0s 969us/sample - loss: 0.6082 - acc: 0.8571\n",
      "Epoch 36/100\n",
      "105/105 [==============================] - 0s 966us/sample - loss: 0.9070 - acc: 0.6286\n",
      "Epoch 37/100\n",
      "105/105 [==============================] - 0s 1ms/sample - loss: 0.5740 - acc: 0.8381\n",
      "Epoch 38/100\n",
      "105/105 [==============================] - 0s 1ms/sample - loss: 0.7433 - acc: 0.6667\n",
      "Epoch 39/100\n",
      "105/105 [==============================] - 0s 1ms/sample - loss: 0.4341 - acc: 0.8857\n",
      "Epoch 40/100\n",
      "105/105 [==============================] - 0s 1ms/sample - loss: 1.4427 - acc: 0.5238\n",
      "Epoch 41/100\n",
      "105/105 [==============================] - 0s 1ms/sample - loss: 0.6759 - acc: 0.7238\n",
      "Epoch 42/100\n",
      "105/105 [==============================] - 0s 1ms/sample - loss: 0.4784 - acc: 0.8667\n",
      "Epoch 43/100\n",
      "105/105 [==============================] - 0s 1ms/sample - loss: 0.3997 - acc: 0.9238\n",
      "Epoch 44/100\n",
      "105/105 [==============================] - 0s 1ms/sample - loss: 0.4174 - acc: 0.8857\n",
      "Epoch 45/100\n",
      "105/105 [==============================] - 0s 1ms/sample - loss: 0.4729 - acc: 0.8476\n",
      "Epoch 46/100\n",
      "105/105 [==============================] - 0s 1ms/sample - loss: 0.5885 - acc: 0.7714\n",
      "Epoch 47/100\n",
      "105/105 [==============================] - 0s 1ms/sample - loss: 0.4681 - acc: 0.8000\n",
      "Epoch 48/100\n",
      "105/105 [==============================] - 0s 1ms/sample - loss: 0.4755 - acc: 0.8667\n",
      "Epoch 49/100\n",
      "105/105 [==============================] - 0s 1ms/sample - loss: 0.3465 - acc: 0.8952\n",
      "Epoch 50/100\n",
      "105/105 [==============================] - 0s 1ms/sample - loss: 0.5118 - acc: 0.8095\n",
      "Epoch 51/100\n",
      "105/105 [==============================] - 0s 1ms/sample - loss: 0.3958 - acc: 0.8095\n",
      "Epoch 52/100\n",
      "105/105 [==============================] - 0s 1ms/sample - loss: 0.2494 - acc: 0.9524\n",
      "Epoch 53/100\n",
      "105/105 [==============================] - 0s 950us/sample - loss: 0.5565 - acc: 0.7619\n",
      "Epoch 54/100\n",
      "105/105 [==============================] - 0s 1ms/sample - loss: 0.2739 - acc: 0.9333\n",
      "Epoch 55/100\n",
      "105/105 [==============================] - 0s 969us/sample - loss: 0.6802 - acc: 0.6952\n",
      "Epoch 56/100\n",
      "105/105 [==============================] - 0s 924us/sample - loss: 0.7327 - acc: 0.8000\n",
      "Epoch 57/100\n",
      "105/105 [==============================] - 0s 864us/sample - loss: 0.9426 - acc: 0.6952\n",
      "Epoch 58/100\n",
      "105/105 [==============================] - 0s 950us/sample - loss: 0.6255 - acc: 0.7905\n",
      "Epoch 59/100\n",
      "105/105 [==============================] - 0s 932us/sample - loss: 0.5971 - acc: 0.7429\n",
      "Epoch 60/100\n",
      "105/105 [==============================] - 0s 931us/sample - loss: 0.2834 - acc: 0.9143\n",
      "Epoch 61/100\n",
      "105/105 [==============================] - 0s 912us/sample - loss: 0.2226 - acc: 0.9524\n",
      "Epoch 62/100\n",
      "105/105 [==============================] - 0s 958us/sample - loss: 0.1886 - acc: 0.9619\n",
      "Epoch 63/100\n",
      "105/105 [==============================] - 0s 982us/sample - loss: 0.2717 - acc: 0.9048\n",
      "Epoch 64/100\n",
      "105/105 [==============================] - 0s 1ms/sample - loss: 0.2087 - acc: 0.9524\n",
      "Epoch 65/100\n",
      "105/105 [==============================] - 0s 1ms/sample - loss: 0.2071 - acc: 0.9524\n",
      "Epoch 66/100\n",
      "105/105 [==============================] - 0s 1ms/sample - loss: 0.1843 - acc: 0.9810\n",
      "Epoch 67/100\n",
      "105/105 [==============================] - 0s 973us/sample - loss: 0.1944 - acc: 0.9429\n",
      "Epoch 68/100\n",
      "105/105 [==============================] - 0s 1ms/sample - loss: 1.7061 - acc: 0.4857\n",
      "Epoch 69/100\n",
      "105/105 [==============================] - 0s 1ms/sample - loss: 0.5142 - acc: 0.8095\n",
      "Epoch 70/100\n",
      "105/105 [==============================] - 0s 1ms/sample - loss: 0.6725 - acc: 0.6952\n",
      "Epoch 71/100\n",
      "105/105 [==============================] - 0s 1ms/sample - loss: 0.5625 - acc: 0.7714\n",
      "Epoch 72/100\n",
      "105/105 [==============================] - 0s 993us/sample - loss: 0.3057 - acc: 0.9048\n",
      "Epoch 73/100\n",
      "105/105 [==============================] - 0s 991us/sample - loss: 0.2768 - acc: 0.8762\n",
      "Epoch 74/100\n",
      "105/105 [==============================] - 0s 997us/sample - loss: 0.1582 - acc: 0.9714\n",
      "Epoch 75/100\n",
      "105/105 [==============================] - 0s 1ms/sample - loss: 0.1373 - acc: 0.9810\n",
      "Epoch 76/100\n",
      "105/105 [==============================] - 0s 988us/sample - loss: 0.1287 - acc: 0.9810\n",
      "Epoch 77/100\n",
      "105/105 [==============================] - 0s 1ms/sample - loss: 0.1407 - acc: 0.9905\n",
      "Epoch 78/100\n",
      "105/105 [==============================] - 0s 1ms/sample - loss: 0.1031 - acc: 1.0000\n",
      "Epoch 79/100\n",
      "105/105 [==============================] - 0s 978us/sample - loss: 0.1709 - acc: 0.9619\n",
      "Epoch 80/100\n",
      "105/105 [==============================] - 0s 981us/sample - loss: 0.0964 - acc: 0.9905\n",
      "Epoch 81/100\n",
      "105/105 [==============================] - 0s 969us/sample - loss: 0.1032 - acc: 0.9905\n",
      "Epoch 82/100\n",
      "105/105 [==============================] - 0s 921us/sample - loss: 0.0914 - acc: 0.9905\n",
      "Epoch 83/100\n"
     ]
    },
    {
     "name": "stdout",
     "output_type": "stream",
     "text": [
      "105/105 [==============================] - 0s 982us/sample - loss: 0.1153 - acc: 0.9905\n",
      "Epoch 84/100\n",
      "105/105 [==============================] - 0s 928us/sample - loss: 0.0964 - acc: 1.0000\n",
      "Epoch 85/100\n",
      "105/105 [==============================] - 0s 997us/sample - loss: 0.0956 - acc: 0.9810\n",
      "Epoch 86/100\n",
      "105/105 [==============================] - 0s 940us/sample - loss: 0.0749 - acc: 1.0000\n",
      "Epoch 87/100\n",
      "105/105 [==============================] - 0s 866us/sample - loss: 0.0962 - acc: 0.9810\n",
      "Epoch 88/100\n",
      "105/105 [==============================] - 0s 931us/sample - loss: 0.0709 - acc: 1.0000\n",
      "Epoch 89/100\n",
      "105/105 [==============================] - 0s 906us/sample - loss: 0.0722 - acc: 1.0000\n",
      "Epoch 90/100\n",
      "105/105 [==============================] - 0s 914us/sample - loss: 0.1228 - acc: 0.9905\n",
      "Epoch 91/100\n",
      "105/105 [==============================] - 0s 950us/sample - loss: 0.2361 - acc: 0.8762\n",
      "Epoch 92/100\n",
      "105/105 [==============================] - 0s 913us/sample - loss: 0.0879 - acc: 0.9905\n",
      "Epoch 93/100\n",
      "105/105 [==============================] - 0s 1ms/sample - loss: 0.0611 - acc: 1.0000\n",
      "Epoch 94/100\n",
      "105/105 [==============================] - 0s 961us/sample - loss: 0.0553 - acc: 1.0000\n",
      "Epoch 95/100\n",
      "105/105 [==============================] - 0s 934us/sample - loss: 0.0631 - acc: 1.0000s - loss: 0.0606 - acc: 1.000\n",
      "Epoch 96/100\n",
      "105/105 [==============================] - 0s 902us/sample - loss: 0.0515 - acc: 1.0000\n",
      "Epoch 97/100\n",
      "105/105 [==============================] - 0s 947us/sample - loss: 0.0615 - acc: 0.9810\n",
      "Epoch 98/100\n",
      "105/105 [==============================] - 0s 997us/sample - loss: 0.0496 - acc: 1.0000\n",
      "Epoch 99/100\n",
      "105/105 [==============================] - 0s 950us/sample - loss: 0.0476 - acc: 1.0000\n",
      "Epoch 100/100\n",
      "105/105 [==============================] - 0s 978us/sample - loss: 0.0418 - acc: 1.0000\n"
     ]
    },
    {
     "data": {
      "text/plain": [
       "<tensorflow.python.keras.callbacks.History at 0x28fd9f71808>"
      ]
     },
     "execution_count": 12,
     "metadata": {},
     "output_type": "execute_result"
    }
   ],
   "source": [
    "model.fit(xtrain,ytrain,epochs=100)   #Trainig accuracy"
   ]
  },
  {
   "cell_type": "code",
   "execution_count": 13,
   "metadata": {},
   "outputs": [],
   "source": [
    "lc=r'Predict'\n",
    "\n",
    "pred=[]\n",
    "for i in os.listdir(lc):\n",
    "    p=cv2.imread(os.path.join(lc,i))\n",
    "    resized_p=cv2.resize(p,(70,70))   #resizing all imgaes\n",
    "    pred.append(resized_p)\n",
    "    \n",
    "\n",
    "\n",
    "pred=np.array(pred)/255"
   ]
  },
  {
   "cell_type": "code",
   "execution_count": 14,
   "metadata": {},
   "outputs": [
    {
     "data": {
      "text/plain": [
       "array([[0.00691192, 0.07991751, 0.00524126, 0.90792936]], dtype=float32)"
      ]
     },
     "execution_count": 14,
     "metadata": {},
     "output_type": "execute_result"
    }
   ],
   "source": [
    "\n",
    "model.predict(pred[0].reshape(1,70,70,3))#these are probabity oneuron\n"
   ]
  },
  {
   "cell_type": "code",
   "execution_count": 15,
   "metadata": {},
   "outputs": [
    {
     "data": {
      "text/plain": [
       "3"
      ]
     },
     "execution_count": 15,
     "metadata": {},
     "output_type": "execute_result"
    }
   ],
   "source": [
    "np.argmax(model.predict(pred[0].reshape(1,70,70,3)))"
   ]
  },
  {
   "cell_type": "code",
   "execution_count": 18,
   "metadata": {},
   "outputs": [
    {
     "data": {
      "text/plain": [
       "array([[[0.01960784, 0.01568627, 0.03137255],\n",
       "        [0.01568627, 0.01960784, 0.03529412],\n",
       "        [0.01176471, 0.01176471, 0.03529412],\n",
       "        ...,\n",
       "        [0.00784314, 0.00392157, 0.01960784],\n",
       "        [0.00784314, 0.00392157, 0.01176471],\n",
       "        [0.01176471, 0.00784314, 0.01568627]],\n",
       "\n",
       "       [[0.02745098, 0.01960784, 0.04313725],\n",
       "        [0.01176471, 0.01568627, 0.03137255],\n",
       "        [0.00784314, 0.00784314, 0.03137255],\n",
       "        ...,\n",
       "        [0.01176471, 0.00784314, 0.01568627],\n",
       "        [0.00784314, 0.00392157, 0.01176471],\n",
       "        [0.01176471, 0.00784314, 0.01568627]],\n",
       "\n",
       "       [[0.01176471, 0.00784314, 0.02352941],\n",
       "        [0.01176471, 0.01568627, 0.03137255],\n",
       "        [0.01176471, 0.01176471, 0.03529412],\n",
       "        ...,\n",
       "        [0.00784314, 0.00392157, 0.01176471],\n",
       "        [0.00784314, 0.00392157, 0.01176471],\n",
       "        [0.00784314, 0.00392157, 0.01176471]],\n",
       "\n",
       "       ...,\n",
       "\n",
       "       [[0.23137255, 0.41960784, 0.70588235],\n",
       "        [0.24705882, 0.42352941, 0.71372549],\n",
       "        [0.24705882, 0.43137255, 0.72156863],\n",
       "        ...,\n",
       "        [0.19607843, 0.37647059, 0.70588235],\n",
       "        [0.19607843, 0.34901961, 0.68235294],\n",
       "        [0.12156863, 0.24313725, 0.57647059]],\n",
       "\n",
       "       [[0.21960784, 0.39607843, 0.68627451],\n",
       "        [0.23529412, 0.41176471, 0.70196078],\n",
       "        [0.24313725, 0.41960784, 0.70980392],\n",
       "        ...,\n",
       "        [0.2       , 0.37647059, 0.69803922],\n",
       "        [0.18431373, 0.3372549 , 0.67058824],\n",
       "        [0.15686275, 0.27843137, 0.61176471]],\n",
       "\n",
       "       [[0.20784314, 0.38431373, 0.6745098 ],\n",
       "        [0.18039216, 0.35686275, 0.64705882],\n",
       "        [0.27058824, 0.43529412, 0.74509804],\n",
       "        ...,\n",
       "        [0.19215686, 0.34901961, 0.67058824],\n",
       "        [0.13333333, 0.29019608, 0.61568627],\n",
       "        [0.17254902, 0.30588235, 0.63137255]]])"
      ]
     },
     "execution_count": 18,
     "metadata": {},
     "output_type": "execute_result"
    }
   ],
   "source": [
    "  #real output "
   ]
  },
  {
   "cell_type": "code",
   "execution_count": 17,
   "metadata": {},
   "outputs": [
    {
     "data": {
      "text/plain": [
       "<matplotlib.image.AxesImage at 0x28fdda029c8>"
      ]
     },
     "execution_count": 17,
     "metadata": {},
     "output_type": "execute_result"
    },
    {
     "data": {
      "image/png": "[encoded data removed]",
      "text/plain": [
       "<Figure size 432x288 with 1 Axes>"
      ]
     },
     "metadata": {
      "needs_background": "light"
     },
     "output_type": "display_data"
    }
   ],
   "source": [
    "import matplotlib.pyplot as plt\n",
    "plt.imshow(pred[0])"
   ]
  },
  {
   "cell_type": "code",
   "execution_count": null,
   "metadata": {},
   "outputs": [],
   "source": [
    "pl=[]\n",
    "for i in model.predict(xtest):\n",
    "    \n",
    "    pl.append(np.argmax(i))"
   ]
  },
  {
   "cell_type": "code",
   "execution_count": null,
   "metadata": {},
   "outputs": [],
   "source": [
    "(pl==ytest).sum()/len(xtest)     # no overfitting here like previous"
   ]
  },
  {
   "cell_type": "code",
   "execution_count": null,
   "metadata": {},
   "outputs": [],
   "source": []
  }
 ],
 "metadata": {
  "kernelspec": {
   "display_name": "Python 3",
   "language": "python",
   "name": "python3"
  },
  "language_info": {
   "codemirror_mode": {
    "name": "ipython",
    "version": 3
   },
   "file_extension": ".py",
   "mimetype": "text/x-python",
   "name": "python",
   "nbconvert_exporter": "python",
   "pygments_lexer": "ipython3",
   "version": "3.7.6"
  }
 },
 "nbformat": 4,
 "nbformat_minor": 2
}
