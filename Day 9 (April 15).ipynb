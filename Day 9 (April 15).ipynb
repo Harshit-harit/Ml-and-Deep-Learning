{
 "cells": [
  {
   "cell_type": "code",
   "execution_count": 9,
   "metadata": {},
   "outputs": [],
   "source": [
    "#unsupervised learning approach we have seen on 8 april 14\n"
   ]
  },
  {
   "cell_type": "code",
   "execution_count": null,
   "metadata": {},
   "outputs": [],
   "source": [
    "#dimensionality reduction : reducing the features\n",
    "#pca:principal component analysis\n",
    "#just operate on no of features \n",
    "#variance or loss mean distance betweeen actual data point and line "
   ]
  },
  {
   "cell_type": "code",
   "execution_count": null,
   "metadata": {},
   "outputs": [],
   "source": [
    "#step 1 : standardize the data\n",
    "#step 2: calculate covariance matrix\n"
   ]
  },
  {
   "cell_type": "code",
   "execution_count": null,
   "metadata": {},
   "outputs": [],
   "source": []
  },
  {
   "cell_type": "code",
   "execution_count": null,
   "metadata": {},
   "outputs": [],
   "source": []
  },
  {
   "cell_type": "code",
   "execution_count": null,
   "metadata": {},
   "outputs": [],
   "source": []
  },
  {
   "cell_type": "code",
   "execution_count": 1,
   "metadata": {},
   "outputs": [],
   "source": [
    "#Feature Extraction from unstructured Data\n",
    "# video image is unstructured data\n",
    "# using computer vision we will use for extracting the features from image\n"
   ]
  },
  {
   "cell_type": "code",
   "execution_count": 3,
   "metadata": {},
   "outputs": [],
   "source": [
    "import  cv2 \n"
   ]
  },
  {
   "cell_type": "code",
   "execution_count": 4,
   "metadata": {},
   "outputs": [],
   "source": [
    "l=r'natural-images/car_0001.jpg'"
   ]
  },
  {
   "cell_type": "code",
   "execution_count": 5,
   "metadata": {},
   "outputs": [
    {
     "name": "stdout",
     "output_type": "stream",
     "text": [
      "[[[10 11 15]\n",
      "  [10 11 15]\n",
      "  [10 12 13]\n",
      "  ...\n",
      "  [46 52 57]\n",
      "  [46 52 57]\n",
      "  [44 50 55]]\n",
      "\n",
      " [[10 11 15]\n",
      "  [10 11 15]\n",
      "  [10 12 13]\n",
      "  ...\n",
      "  [47 53 58]\n",
      "  [46 52 57]\n",
      "  [45 51 56]]\n",
      "\n",
      " [[10 11 15]\n",
      "  [10 11 15]\n",
      "  [10 12 13]\n",
      "  ...\n",
      "  [47 53 58]\n",
      "  [45 51 56]\n",
      "  [45 51 56]]\n",
      "\n",
      " ...\n",
      "\n",
      " [[46 57 61]\n",
      "  [44 55 59]\n",
      "  [42 52 59]\n",
      "  ...\n",
      "  [52 63 67]\n",
      "  [52 63 67]\n",
      "  [53 64 68]]\n",
      "\n",
      " [[48 59 63]\n",
      "  [44 55 59]\n",
      "  [44 55 59]\n",
      "  ...\n",
      "  [52 63 67]\n",
      "  [53 64 68]\n",
      "  [53 64 68]]\n",
      "\n",
      " [[47 58 62]\n",
      "  [45 56 60]\n",
      "  [43 54 58]\n",
      "  ...\n",
      "  [53 64 68]\n",
      "  [53 64 68]\n",
      "  [53 64 68]]]\n"
     ]
    }
   ],
   "source": [
    "i=cv2.imread(l)\n",
    "print(i)\n"
   ]
  },
  {
   "cell_type": "code",
   "execution_count": 6,
   "metadata": {},
   "outputs": [
    {
     "data": {
      "text/plain": [
       "<Figure size 640x480 with 1 Axes>"
      ]
     },
     "metadata": {},
     "output_type": "display_data"
    }
   ],
   "source": [
    "import matplotlib.pyplot as plt\n",
    "plt.imshow(i)\n",
    "plt.show()\n"
   ]
  },
  {
   "cell_type": "code",
   "execution_count": null,
   "metadata": {},
   "outputs": [],
   "source": [
    "\n"
   ]
  },
  {
   "cell_type": "code",
   "execution_count": null,
   "metadata": {},
   "outputs": [],
   "source": []
  }
 ],
 "metadata": {
  "kernelspec": {
   "display_name": "Python 3",
   "language": "python",
   "name": "python3"
  },
  "language_info": {
   "codemirror_mode": {
    "name": "ipython",
    "version": 3
   },
   "file_extension": ".py",
   "mimetype": "text/x-python",
   "name": "python",
   "nbconvert_exporter": "python",
   "pygments_lexer": "ipython3",
   "version": "3.7.4"
  }
 },
 "nbformat": 4,
 "nbformat_minor": 2
}
