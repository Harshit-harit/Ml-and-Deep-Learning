{
 "cells": [
  {
   "cell_type": "code",
   "execution_count": 1,
   "metadata": {},
   "outputs": [],
   "source": [
    "#netflix facebook youtube flipkart data\n",
    "#zomato data\n",
    "#data not having labels\n",
    "\n",
    "\n",
    "#explicit : means given by you i.e rating u give\n",
    "#implicit : baehaviour you are showing how much time u r spending\n",
    "#these platform more relay  on implicit data\n",
    "#platform like netflix stores data\n",
    "\n",
    "#id\n",
    "#Language preference\n",
    "#age \n",
    "#location\n",
    "#timespend\n",
    "#actor preferences\n",
    "\n",
    "\n",
    "\n",
    "#these are features not label\n",
    "#label not present here\n",
    "\n",
    "#this is unsupervised learning\n",
    "#just use feature part and will give u clusters \n",
    "#cluster mean group of similar types of elment i.e students group , organization group\n",
    "# similar elemnts club and make cluster\n",
    "# what will be method how they should know they have same features\n",
    "\n"
   ]
  },
  {
   "cell_type": "code",
   "execution_count": null,
   "metadata": {},
   "outputs": [],
   "source": [
    "\n",
    "#we r given features\n",
    "#how to form the cluster\n",
    "#how many clusters will be created\n",
    "\n",
    "#steps in clustering\n",
    "#step 1 finding centroid\n",
    "#step 2 updating centroids\n"
   ]
  }
 ],
 "metadata": {
  "kernelspec": {
   "display_name": "Python 3",
   "language": "python",
   "name": "python3"
  },
  "language_info": {
   "codemirror_mode": {
    "name": "ipython",
    "version": 3
   },
   "file_extension": ".py",
   "mimetype": "text/x-python",
   "name": "python",
   "nbconvert_exporter": "python",
   "pygments_lexer": "ipython3",
   "version": "3.7.7"
  }
 },
 "nbformat": 4,
 "nbformat_minor": 2
}
